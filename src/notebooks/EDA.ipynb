{
 "cells": [
  {
   "cell_type": "markdown",
   "metadata": {},
   "source": [
    "## **Introduction**\n",
    "\n",
    "**Multi-Class Image Classification** Machine Learning project.\n",
    "\n",
    "We want to determine what **type of class** the image is amongst :\n",
    "\n",
    "* automobile\n",
    "* cat\n",
    "* dog\n",
    "\n"
   ]
  },
  {
   "cell_type": "markdown",
   "metadata": {},
   "source": [
    "### 1. Import Libraries"
   ]
  },
  {
   "cell_type": "code",
   "execution_count": 135,
   "metadata": {},
   "outputs": [],
   "source": [
    "import numpy as np\n",
    "import pandas as pd\n",
    "import matplotlib.pyplot as plt"
   ]
  },
  {
   "cell_type": "markdown",
   "metadata": {},
   "source": [
    "### 2. Import files and understand format:\n",
    "\n",
    "* There are **5 train** files (data_batch_1, data_batch_2, ...), **one test** (test_batch) and **label names** (batches.meta).\n",
    "* The dataset consists of **60,000** 32x32 colour images in 10 classes, with **6,000** images per class.\n",
    "* There are **50,000 training images** and **10,000 test images.**\n",
    "* Each file contains a dictionary with the following elements:\n",
    "\n",
    "    * **data:** a 10,000 x 3,072 numpy array of uint8s. Each row of the array stores a 32 x 32 colour image. The first 1,024 entries contain the red channel values, the next 1,024 the green, and the final 1,024 the blue.\n",
    "    \n",
    "    * The image is stored in **row-major order**, so that the first 32 entries of the array are the red channel values of the first row of the image.\n",
    "    <br>\n",
    "\n",
    "    <img src=\"https://upload.wikimedia.org/wikipedia/commons/thumb/4/4d/Row_and_column_major_order.svg/1920px-Row_and_column_major_order.svg.png\"  width=\"200\" height=\"300\">\n",
    "    <br>\n",
    "    \n",
    "    * **labels**: a list of 10,000 numbers in the range 0-9. The number at index i indicates the label of the ith image in the array **data.**\n",
    "\n",
    "\n",
    "Images available :\n",
    "\n",
    "* airplane\n",
    "* automobile\n",
    "* bird\n",
    "* cat\n",
    "* deer\n",
    "* dog\n",
    "* frog\n",
    "* horse\n",
    "* ship\n",
    "* truck\n",
    "\n"
   ]
  },
  {
   "cell_type": "markdown",
   "metadata": {},
   "source": [
    "### Labels"
   ]
  },
  {
   "cell_type": "code",
   "execution_count": 95,
   "metadata": {},
   "outputs": [
    {
     "name": "stdout",
     "output_type": "stream",
     "text": [
      "Image labels in byte format:  [b'airplane', b'automobile', b'bird', b'cat', b'deer', b'dog', b'frog', b'horse', b'ship', b'truck']\n",
      "Initial byte format: <class 'bytes'>\n",
      "Chekc byte format converted to string: <class 'str'>\n",
      "Image labels in string format: ['airplane', 'automobile', 'bird', 'cat', 'deer', 'dog', 'frog', 'horse', 'ship', 'truck']\n"
     ]
    }
   ],
   "source": [
    "# Get the labels, transform type from byte to string and store them in label array.\n",
    "\n",
    "def unpickle(file):\n",
    "    import pickle\n",
    "    with open(file, 'rb') as fo:\n",
    "        dict = pickle.load(fo, encoding='bytes')\n",
    "        labels = dict[b'label_names']\n",
    "    return labels\n",
    "\n",
    "file = \"./data/batches.meta\"\n",
    "\n",
    "byte_labels = unpickle(file)\n",
    "\n",
    "# Show labels\n",
    "print(\"Image labels in byte format: \",byte_labels)\n",
    "\n",
    "# b'This is a byte object.' => We need to convert it to string\n",
    "print(\"Initial byte format:\",type(byte_labels[0]))\n",
    "\n",
    "labels =  list(map(lambda x: x.decode('utf-8'),byte_labels))\n",
    "print(\"Chekc byte format converted to string:\",type(labels[0]))\n",
    "print(\"Image labels in string format:\",labels)\n"
   ]
  },
  {
   "cell_type": "code",
   "execution_count": 179,
   "metadata": {},
   "outputs": [
    {
     "name": "stdout",
     "output_type": "stream",
     "text": [
      "dict_keys([b'batch_label', b'labels', b'data', b'filenames'])\n"
     ]
    }
   ],
   "source": [
    "# Unwrap first file\n",
    "def unpickle(file):\n",
    "    import pickle\n",
    "    with open(file, 'rb') as fo:\n",
    "        dict = pickle.load(fo, encoding='bytes')\n",
    "    return dict\n",
    "\n",
    "file = \"./data/data_batch_1\"\n",
    "\n",
    "dict = unpickle(file)\n",
    "\n",
    "print(dict.keys())\n",
    "\n"
   ]
  },
  {
   "cell_type": "markdown",
   "metadata": {},
   "source": [
    "### Try to display 1 Image"
   ]
  },
  {
   "cell_type": "code",
   "execution_count": 180,
   "metadata": {},
   "outputs": [
    {
     "name": "stdout",
     "output_type": "stream",
     "text": [
      "[ 59  43  50 ... 140  84  72]\n",
      "(3072,)\n",
      "(3, 32, 32)\n",
      "(32, 32, 3)\n"
     ]
    },
    {
     "data": {
      "image/png": "[encoded data removed]",
      "text/plain": [
       "<Figure size 640x480 with 1 Axes>"
      ]
     },
     "metadata": {},
     "output_type": "display_data"
    }
   ],
   "source": [
    "# Each batch contains 10,000 images\n",
    "# 32 x 32 = 1024\n",
    "# 32 x 32 x 3 = 3072\n",
    "# print(len((dict[b'data'][0])))\n",
    "\n",
    "print(np.array(dict[b'data'][0]))\n",
    "\n",
    "first_image = np.array(dict[b'data'][0])\n",
    "\n",
    "# Gives us label 6\n",
    "first_image_label = np.array(dict[b'labels'][0])\n",
    "\n",
    "\n",
    "print(first_image.shape)\n",
    "first_image = first_image.reshape(3,32,32)\n",
    "print(first_image.shape)\n",
    "first_image = first_image.transpose(1,2,0)\n",
    "print(first_image.shape)\n",
    "\n",
    "plt.title(labels[first_image_label])\n",
    "plt.imshow(first_image);\n"
   ]
  },
  {
   "cell_type": "markdown",
   "metadata": {},
   "source": [
    "### Store all files"
   ]
  },
  {
   "cell_type": "code",
   "execution_count": null,
   "metadata": {},
   "outputs": [],
   "source": []
  },
  {
   "cell_type": "code",
   "execution_count": null,
   "metadata": {},
   "outputs": [],
   "source": []
  },
  {
   "cell_type": "code",
   "execution_count": null,
   "metadata": {},
   "outputs": [],
   "source": []
  },
  {
   "cell_type": "code",
   "execution_count": null,
   "metadata": {},
   "outputs": [],
   "source": []
  },
  {
   "cell_type": "code",
   "execution_count": null,
   "metadata": {},
   "outputs": [],
   "source": []
  },
  {
   "cell_type": "code",
   "execution_count": null,
   "metadata": {},
   "outputs": [],
   "source": []
  },
  {
   "cell_type": "code",
   "execution_count": null,
   "metadata": {},
   "outputs": [],
   "source": []
  },
  {
   "cell_type": "code",
   "execution_count": null,
   "metadata": {},
   "outputs": [],
   "source": []
  },
  {
   "cell_type": "code",
   "execution_count": null,
   "metadata": {},
   "outputs": [],
   "source": []
  },
  {
   "cell_type": "code",
   "execution_count": null,
   "metadata": {},
   "outputs": [],
   "source": []
  },
  {
   "cell_type": "code",
   "execution_count": null,
   "metadata": {},
   "outputs": [],
   "source": []
  },
  {
   "cell_type": "code",
   "execution_count": null,
   "metadata": {},
   "outputs": [],
   "source": []
  }
 ],
 "metadata": {
  "interpreter": {
   "hash": "bcdc425d517deb9e216693a9add6673374e5d52249ad1f984c9f7bda525a095e"
  },
  "kernelspec": {
   "display_name": "Python 3.9.13 ('base')",
   "language": "python",
   "name": "python3"
  },
  "language_info": {
   "codemirror_mode": {
    "name": "ipython",
    "version": 3
   },
   "file_extension": ".py",
   "mimetype": "text/x-python",
   "name": "python",
   "nbconvert_exporter": "python",
   "pygments_lexer": "ipython3",
   "version": "3.9.13"
  },
  "orig_nbformat": 4
 },
 "nbformat": 4,
 "nbformat_minor": 2
}
